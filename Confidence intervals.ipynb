{
 "cells": [
  {
   "cell_type": "code",
   "execution_count": 1,
   "metadata": {},
   "outputs": [],
   "source": [
    "import numpy as np\n",
    "from scipy.stats import norm, t"
   ]
  },
  {
   "cell_type": "code",
   "execution_count": 2,
   "metadata": {},
   "outputs": [],
   "source": [
    "np.random.seed(1)"
   ]
  },
  {
   "cell_type": "code",
   "execution_count": 3,
   "metadata": {},
   "outputs": [],
   "source": [
    "N = 1000 # sample size\n",
    "mu = 5\n",
    "sigma = 2\n",
    "X = np.random.randn(N)*sigma + mu \n",
    "# samples from a normal distribution with mu and variance sigma squared\n",
    "# np.random.randn(N) generates a sample of size 1000 from \n",
    "# standard normal distribution\n",
    "# it is multiplied by std and added by mean to get actual observations"
   ]
  },
  {
   "attachments": {
    "image.png": {
     "image/png": "[encoded data removed]"
    }
   },
   "cell_type": "markdown",
   "metadata": {},
   "source": [
    "![image.png](attachment:image.png)"
   ]
  },
  {
   "cell_type": "code",
   "execution_count": 4,
   "metadata": {},
   "outputs": [
    {
     "name": "stdout",
     "output_type": "stream",
     "text": [
      "Sample mean: 5.08 Lower confidence limit: 4.96 Upper confidence limit: 5.2\n"
     ]
    }
   ],
   "source": [
    "# Z confidence interval \n",
    "mu_hat = np.mean(X) #sample mean\n",
    "sigma_hat = np.std(X, ddof = 1) #sample standard deviation\n",
    "z_left = norm.ppf(0.025) #the z score such that the area to the left is 2.5%\n",
    "z_right = norm.ppf(0.975) # the z score such that area to the left is \n",
    "lower = mu_hat + z_left * sigma_hat / np.sqrt(N) # lower confidence limit\n",
    "upper = mu_hat + z_right * sigma_hat / np.sqrt(N) # upper confidence limit\n",
    "print(\"Sample mean:\", round(mu_hat,2), \"Lower confidence limit:\", round(lower,2), \"Upper confidence limit:\", round(upper,2))"
   ]
  },
  {
   "cell_type": "code",
   "execution_count": 5,
   "metadata": {},
   "outputs": [
    {
     "name": "stdout",
     "output_type": "stream",
     "text": [
      "Sample mean: 5.08 Lower confidence limit: 4.96 Upper confidence limit: 5.2\n"
     ]
    }
   ],
   "source": [
    "# t confidence interval \n",
    "mu_hat = np.mean(X) #sample mean\n",
    "sigma_hat = np.std(X, ddof = 1) #sample standard deviation\n",
    "t_left = t.ppf(0.025, df = N-1) #the t score such that the area to the left is 2.5%\n",
    "t_right = t.ppf(0.975, df = N-1) # the t score such that area to the left is \n",
    "lower = mu_hat + t_left * sigma_hat / np.sqrt(N) # lower confidence limit\n",
    "upper = mu_hat + t_right * sigma_hat / np.sqrt(N) # upper confidence limit\n",
    "print(\"Sample mean:\", round(mu_hat,2), \"Lower confidence limit:\", round(lower,2), \"Upper confidence limit:\", round(upper,2))"
   ]
  },
  {
   "cell_type": "markdown",
   "metadata": {},
   "source": [
    "### Acccording to the theory of confidence interval, the confidence interval should include the true value of the parameter 95% of the time."
   ]
  },
  {
   "cell_type": "code",
   "execution_count": 6,
   "metadata": {},
   "outputs": [],
   "source": [
    "def experiment():\n",
    "    X = np.random.randn(N)*sigma + mu \n",
    "    mu_hat = np.mean(X) #sample mean\n",
    "    sigma_hat = np.std(X, ddof = 1) \n",
    "    t_left = t.ppf(0.025, df = N-1) \n",
    "    t_right = t.ppf(0.975, df = N-1) \n",
    "    lower = mu_hat + t_left * sigma_hat / np.sqrt(N) \n",
    "    upper = mu_hat + t_right * sigma_hat / np.sqrt(N) \n",
    "    return mu > lower and mu < upper # checking if popn mean lies in interval "
   ]
  },
  {
   "cell_type": "code",
   "execution_count": 9,
   "metadata": {},
   "outputs": [
    {
     "data": {
      "text/plain": [
       "0.9499"
      ]
     },
     "execution_count": 9,
     "metadata": {},
     "output_type": "execute_result"
    }
   ],
   "source": [
    "results = []\n",
    "for i in range(10000):\n",
    "    results.append(experiment())\n",
    "np.mean(results)    "
   ]
  }
 ],
 "metadata": {
  "kernelspec": {
   "display_name": "Python 3",
   "language": "python",
   "name": "python3"
  },
  "language_info": {
   "codemirror_mode": {
    "name": "ipython",
    "version": 3
   },
   "file_extension": ".py",
   "mimetype": "text/x-python",
   "name": "python",
   "nbconvert_exporter": "python",
   "pygments_lexer": "ipython3",
   "version": "3.7.1"
  }
 },
 "nbformat": 4,
 "nbformat_minor": 2
}
